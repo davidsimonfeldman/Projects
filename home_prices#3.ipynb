{
 "cells": [
  {
   "cell_type": "code",
   "execution_count": null,
   "metadata": {
    "ExecuteTime": {
     "end_time": "2021-07-05T18:44:59.194883Z",
     "start_time": "2021-07-05T18:44:57.287080Z"
    }
   },
   "outputs": [],
   "source": [
    "#invite people for the Kaggle party\n",
    "import pandas as pd\n",
    "import matplotlib.pyplot as plt\n",
    "import seaborn as sns\n",
    "import numpy as np\n",
    "from scipy.stats import norm\n",
    "from sklearn.preprocessing import StandardScaler\n",
    "from scipy import stats\n",
    "import warnings\n",
    "warnings.filterwarnings('ignore')\n",
    "import plotly.express as px\n",
    "\n",
    "%matplotlib inline\n",
    "#Load datasets for demonstrations\n",
    " \n"
   ]
  },
  {
   "cell_type": "code",
   "execution_count": null,
   "metadata": {
    "ExecuteTime": {
     "end_time": "2021-07-05T18:45:16.311186Z",
     "start_time": "2021-07-05T18:45:16.273177Z"
    }
   },
   "outputs": [],
   "source": [
    "house_data = pd.read_csv('houseprices.csv')\n"
   ]
  },
  {
   "cell_type": "code",
   "execution_count": null,
   "metadata": {
    "ExecuteTime": {
     "end_time": "2021-07-05T18:46:40.081426Z",
     "start_time": "2021-07-05T18:46:39.980434Z"
    }
   },
   "outputs": [],
   "source": [
    "print(house_data['SalePrice'].describe())\n",
    "print(house_data.describe())"
   ]
  },
  {
   "cell_type": "code",
   "execution_count": null,
   "metadata": {
    "ExecuteTime": {
     "end_time": "2021-07-05T18:46:54.156021Z",
     "start_time": "2021-07-05T18:46:53.566933Z"
    }
   },
   "outputs": [],
   "source": [
    "# Distribution plot\n",
    "def distribution_plot(data):\n",
    "    sns.distplot(data, fit=norm)\n",
    "    plt.ylabel('Frequency')\n",
    "    plt.title(f'{data.name} distribution')\n",
    "    \n",
    "distribution_plot(house_data['SalePrice'])"
   ]
  },
  {
   "cell_type": "code",
   "execution_count": null,
   "metadata": {
    "ExecuteTime": {
     "end_time": "2021-07-05T18:47:02.058031Z",
     "start_time": "2021-07-05T18:47:02.043742Z"
    }
   },
   "outputs": [],
   "source": [
    "#skewness and kurtosis\n",
    "print(\"Skewness: %f\" % house_data['SalePrice'].skew())\n",
    "print(\"Kurtosis: %f\" % house_data['SalePrice'].kurt())"
   ]
  },
  {
   "cell_type": "code",
   "execution_count": null,
   "metadata": {
    "ExecuteTime": {
     "end_time": "2021-07-05T18:47:29.771885Z",
     "start_time": "2021-07-05T18:47:29.751887Z"
    }
   },
   "outputs": [],
   "source": [
    "\n",
    "print(house_data['OverallQual'].describe())\n",
    "OverallQual = house_data['OverallQual'].astype('category')\n",
    "\n",
    "#Peek... head or tail\n",
    "OverallQual.head()"
   ]
  },
  {
   "cell_type": "code",
   "execution_count": null,
   "metadata": {
    "ExecuteTime": {
     "end_time": "2021-07-05T18:48:39.229755Z",
     "start_time": "2021-07-05T18:48:39.213769Z"
    }
   },
   "outputs": [],
   "source": [
    "OverallQual.describe()\n"
   ]
  },
  {
   "cell_type": "code",
   "execution_count": null,
   "metadata": {
    "ExecuteTime": {
     "end_time": "2021-07-05T18:48:56.788969Z",
     "start_time": "2021-07-05T18:48:56.772968Z"
    }
   },
   "outputs": [],
   "source": [
    "column = OverallQual;\n",
    "print('Column Name:{}\\nCardinality:{}\\nValues:{}'.format(column.name,column.nunique(), column.unique()))"
   ]
  },
  {
   "cell_type": "code",
   "execution_count": null,
   "metadata": {
    "ExecuteTime": {
     "end_time": "2021-07-05T18:51:32.076330Z",
     "start_time": "2021-07-05T18:51:32.062341Z"
    }
   },
   "outputs": [],
   "source": [
    "OverallQual.value_counts().reset_index().rename(columns={'index': 'OverallQual','OverallQual': 'amount'} )\n"
   ]
  },
  {
   "cell_type": "code",
   "execution_count": null,
   "metadata": {
    "ExecuteTime": {
     "end_time": "2021-07-05T18:53:06.045200Z",
     "start_time": "2021-07-05T18:53:05.655909Z"
    }
   },
   "outputs": [],
   "source": [
    "def getPlotsforCatFeature(series,figX=25,figY=17):\n",
    "    f,ax=plt.subplots(1,2,figsize=(figX,figY))\n",
    "    series.value_counts().plot.pie(autopct='%1.6f%%',ax=ax[0])\n",
    "    ax[0].set_title(f'{series.name}')\n",
    "    ax[0].set_ylabel('')\n",
    "    sns.countplot(series,ax=ax[1])\n",
    "    ax[1].set_title(f'Count plot for {series.name}')\n",
    "    plt.show()\n",
    "    \n",
    "getPlotsforCatFeature(OverallQual,25,20)"
   ]
  },
  {
   "cell_type": "code",
   "execution_count": null,
   "metadata": {
    "ExecuteTime": {
     "end_time": "2021-07-05T18:57:14.199864Z",
     "start_time": "2021-07-05T18:57:14.025852Z"
    }
   },
   "outputs": [],
   "source": [
    "#scatter plot\n",
    "house_data.plot.scatter(x='GrLivArea', y='SalePrice');\n",
    "\n",
    "''' Alternatively you could use following function \n",
    "def scatterplot(seriesX,seriesY):\n",
    "    data = pd.concat([seriesY, seriesX], axis=1)\n",
    "    data.plot.scatter(x=seriesX.name, y=seriesY.name)\n",
    "    \n",
    "scatterplot(house_data['GrLivArea'],house_data['SalePrice'])\n",
    "'''"
   ]
  },
  {
   "cell_type": "code",
   "execution_count": null,
   "metadata": {
    "ExecuteTime": {
     "end_time": "2021-07-05T18:57:43.353460Z",
     "start_time": "2021-07-05T18:57:43.018439Z"
    }
   },
   "outputs": [],
   "source": [
    "#Box plot\n",
    "num = 'SalePrice'\n",
    "cat = 'OverallQual'\n",
    "df  =  house_data\n",
    "\n",
    "data = pd.concat([df[num], df[cat]], axis=1)\n",
    "f, ax = plt.subplots(figsize=(8, 6))\n",
    "fig = sns.boxplot(x=cat, y=num, data=data)\n",
    "fig.axis(ymin=0, ymax=800000);"
   ]
  },
  {
   "cell_type": "code",
   "execution_count": null,
   "metadata": {
    "ExecuteTime": {
     "end_time": "2021-07-05T19:01:38.661816Z",
     "start_time": "2021-07-05T19:01:23.976017Z"
    }
   },
   "outputs": [],
   "source": [
    "def boxplot(x, y, **kwargs):\n",
    "    sns.boxplot(x=x, y=y)\n",
    "    x=plt.xticks(rotation=90)\n",
    "\n",
    "def fillMissingCatColumns(data,categorical):\n",
    "    for c in categorical:\n",
    "        data[c] = data[c].astype('category')\n",
    "        if data[c].isnull().any():\n",
    "            data[c] = data[c].cat.add_categories(['MISSING'])\n",
    "            data[c] = data[c].fillna('MISSING')\n",
    "    \n",
    "def getboxPlots(data,var,categorical):\n",
    "    fillMissingCatColumns(data,categorical)\n",
    "    f = pd.melt(data, id_vars=var, value_vars=categorical)\n",
    "    g = sns.FacetGrid(f, col=\"variable\",  col_wrap=2, sharex=False, sharey=False, size=15)\n",
    "    g = g.map(boxplot, \"value\", var)\n",
    "    \n",
    "\n",
    "data = house_data.copy()\n",
    "categorical = [f for f in data.columns if data.dtypes[f] == 'object']    \n",
    "getboxPlots(data,'SalePrice',categorical)"
   ]
  },
  {
   "cell_type": "code",
   "execution_count": null,
   "metadata": {
    "ExecuteTime": {
     "end_time": "2021-07-06T10:59:00.641077Z",
     "start_time": "2021-07-06T10:58:59.979853Z"
    }
   },
   "outputs": [],
   "source": [
    "def getCorrHeatMap(dataFrame,figSize=[12,9]):\n",
    "    corrmat = dataFrame.corr()\n",
    "    print(dataFrame.corr()['SalePrice'].sort_values(ascending=False).head(10)[dataFrame.corr()['SalePrice'].sort_values(ascending=False).head(10)>0.5])\n",
    "    f, ax = plt.subplots(figsize=(figSize[0], figSize[1]))\n",
    "    sns.heatmap(corrmat, vmax=.8, square=True);\n",
    "\n",
    "getCorrHeatMap(house_data)"
   ]
  },
  {
   "cell_type": "code",
   "execution_count": null,
   "metadata": {
    "ExecuteTime": {
     "end_time": "2021-07-06T10:55:00.061306Z",
     "start_time": "2021-07-06T10:54:58.621010Z"
    }
   },
   "outputs": [],
   "source": [
    "def getZoomedCorrHeatMap(dataFrame,featureCount,target,figSize=[12,9]):\n",
    "    corrmat = dataFrame.corr()\n",
    "    cols = corrmat.nlargest(featureCount, target)[target].index\n",
    "    f , ax = plt.subplots(figsize = (figSize[0],figSize[1]))\n",
    "    cm = np.corrcoef(dataFrame[cols].values.T)\n",
    "    sns.set(font_scale=1.25)\n",
    "    hm = sns.heatmap(cm, cbar=True, annot=True, square=True, fmt='.2f', annot_kws={'size': 10}, yticklabels=cols.values, xticklabels=cols.values)\n",
    "    plt.show()\n",
    "\n",
    "getZoomedCorrHeatMap(house_data,10,'SalePrice',[10,8])"
   ]
  },
  {
   "cell_type": "code",
   "execution_count": null,
   "metadata": {
    "ExecuteTime": {
     "end_time": "2021-07-06T11:06:14.249579Z",
     "start_time": "2021-07-06T11:06:14.185299Z"
    }
   },
   "outputs": [],
   "source": [
    "def getMissingValuesInfo(df):\n",
    "    total = df.isnull().sum().sort_values(ascending = False)\n",
    "    percent = round(df.isnull().sum().sort_values(ascending = False)/len(df)*100, 2)\n",
    "    temp = pd.concat([total, percent], axis = 1,keys= ['Total Missing Count', '% of Total Observations'])\n",
    "    temp.index.name ='Feature Name'\n",
    "    return temp.loc[(temp['Total Missing Count'] > 0)]\n",
    "\n",
    "getMissingValuesInfo(house_data)"
   ]
  },
  {
   "cell_type": "code",
   "execution_count": null,
   "metadata": {
    "ExecuteTime": {
     "end_time": "2021-07-06T11:35:26.532168Z",
     "start_time": "2021-07-06T11:35:26.093643Z"
    }
   },
   "outputs": [],
   "source": [
    "# Visualizing missing counts\n",
    "missing = house_data.isnull().sum()\n",
    "# print('missing',missing)\n",
    "missing = missing[missing > 0]\n",
    "# print('missing',missing)\n",
    "missing.sort_values(inplace=True)\n",
    "print('missing',missing)\n",
    "plt.subplots(figsize=(15,5))\n",
    "missing.plot.bar()\n",
    "plt.show()"
   ]
  },
  {
   "cell_type": "code",
   "execution_count": null,
   "metadata": {
    "ExecuteTime": {
     "end_time": "2021-07-06T11:41:21.108507Z",
     "start_time": "2021-07-06T11:41:21.029602Z"
    }
   },
   "outputs": [],
   "source": [
    "missing.reset_index()['index'].T;\n",
    "house_data[missing.reset_index()['index'].T]"
   ]
  },
  {
   "cell_type": "code",
   "execution_count": null,
   "metadata": {
    "ExecuteTime": {
     "end_time": "2021-07-06T11:41:36.225633Z",
     "start_time": "2021-07-06T11:41:35.189768Z"
    }
   },
   "outputs": [],
   "source": [
    "fig, ax = plt.subplots(figsize=(25,9))\n",
    "\n",
    "sns.heatmap(house_data[missing.reset_index()['index'].T].isnull(), cbar=False, cmap=\"YlGnBu_r\")\n",
    "\n",
    "plt.show()\n",
    "# White spaces shows the missing value in the data frame."
   ]
  },
  {
   "cell_type": "code",
   "execution_count": null,
   "metadata": {
    "ExecuteTime": {
     "end_time": "2021-07-06T12:20:49.924077Z",
     "start_time": "2021-07-06T12:20:33.637929Z"
    }
   },
   "outputs": [],
   "source": [
    "def distplots(data,num_features):\n",
    "    f = pd.melt(data, value_vars=num_features)\n",
    "    print(f)\n",
    "    g = sns.FacetGrid(f, col=\"variable\",  col_wrap=4, sharex=False, sharey=False)\n",
    "    g = g.map(sns.distplot, \"value\")\n",
    "    \n",
    "\n",
    "num_features = house_data.select_dtypes(include=['int64','float64'])\n",
    "distplots(house_data,num_features)"
   ]
  },
  {
   "cell_type": "code",
   "execution_count": null,
   "metadata": {
    "ExecuteTime": {
     "end_time": "2021-07-06T12:20:03.775566Z",
     "start_time": "2021-07-06T12:20:03.536647Z"
    }
   },
   "outputs": [],
   "source": [
    "num_features = house_data.select_dtypes(include=['int64','float64'])\n",
    "num_features.describe() "
   ]
  },
  {
   "cell_type": "code",
   "execution_count": null,
   "metadata": {
    "ExecuteTime": {
     "end_time": "2021-07-06T12:20:18.072091Z",
     "start_time": "2021-07-06T12:20:17.894224Z"
    }
   },
   "outputs": [],
   "source": [
    "categorical_features = house_data.select_dtypes(include='object')\n",
    "categorical_features.describe()"
   ]
  },
  {
   "cell_type": "code",
   "execution_count": null,
   "metadata": {
    "ExecuteTime": {
     "end_time": "2021-07-06T12:22:00.485218Z",
     "start_time": "2021-07-06T12:22:00.358412Z"
    }
   },
   "outputs": [],
   "source": [
    "# Listing unique values in categorical columns^\n",
    "def printUniqueValues(df,cardinality=1000):\n",
    "    n = df.select_dtypes(include=object)\n",
    "    for column in n.columns:\n",
    "        uCount = df[column].nunique()\n",
    "        if uCount<=cardinality:\n",
    "            print('{:>12}: {} {}'.format(column,uCount, df[column].unique()))\n",
    "            #print(column,': [',uCount , '] ', df[column].unique())\n",
    "\n",
    "\n",
    "printUniqueValues(house_data,10)\n"
   ]
  },
  {
   "cell_type": "code",
   "execution_count": null,
   "metadata": {
    "ExecuteTime": {
     "end_time": "2021-07-06T12:36:06.698646Z",
     "start_time": "2021-07-06T12:27:38.894851Z"
    }
   },
   "outputs": [],
   "source": [
    "import pandas_profiling\n",
    "profile_report = pandas_profiling.ProfileReport(house_data)\n",
    "#profile_report.to_file(\"profile_report.html\")\n",
    "profile_report"
   ]
  },
  {
   "cell_type": "code",
   "execution_count": null,
   "metadata": {
    "ExecuteTime": {
     "end_time": "2021-07-06T12:36:10.484662Z",
     "start_time": "2021-07-06T12:36:06.701536Z"
    }
   },
   "outputs": [],
   "source": [
    "# We can use pandas profiling on selected features too.\n",
    "\n",
    "# Using Pandas Profiling to analyse SalePrice feature in housing dataset.\n",
    "\n",
    "series = house_data['SalePrice']\n",
    "d = { series.name : series}\n",
    "df = pd.DataFrame(d) \n",
    "pandas_profiling.ProfileReport(df)"
   ]
  },
  {
   "cell_type": "code",
   "execution_count": null,
   "metadata": {},
   "outputs": [],
   "source": []
  }
 ],
 "metadata": {
  "kernelspec": {
   "display_name": "Python 3",
   "language": "python",
   "name": "python3"
  },
  "language_info": {
   "codemirror_mode": {
    "name": "ipython",
    "version": 3
   },
   "file_extension": ".py",
   "mimetype": "text/x-python",
   "name": "python",
   "nbconvert_exporter": "python",
   "pygments_lexer": "ipython3",
   "version": "3.7.6"
  }
 },
 "nbformat": 4,
 "nbformat_minor": 4
}
